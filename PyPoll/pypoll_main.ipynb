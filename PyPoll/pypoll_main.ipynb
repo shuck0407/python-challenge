{
 "cells": [
  {
   "cell_type": "code",
   "execution_count": 46,
   "metadata": {},
   "outputs": [],
   "source": [
    "# Import Dependencies\n",
    "import pandas as pd"
   ]
  },
  {
   "cell_type": "code",
   "execution_count": 47,
   "metadata": {},
   "outputs": [],
   "source": [
    "# Store filepath in a variable\n",
    "poll_file = \"Resources/election_data.csv\""
   ]
  },
  {
   "cell_type": "code",
   "execution_count": 48,
   "metadata": {},
   "outputs": [],
   "source": [
    "# Read the Data file into a data frame using Pandas\n",
    "poll_file_df = pd.read_csv(poll_file, encoding=\"UTF-8\")\n"
   ]
  },
  {
   "cell_type": "code",
   "execution_count": 49,
   "metadata": {},
   "outputs": [],
   "source": [
    "#Get the total number of votes\n",
    "vote_total = len(poll_file_df)\n"
   ]
  },
  {
   "cell_type": "code",
   "execution_count": 50,
   "metadata": {},
   "outputs": [],
   "source": [
    "#Unique list of candidates who received votes\n",
    "candidates = poll_file_df[\"Candidate\"].unique()\n"
   ]
  },
  {
   "cell_type": "code",
   "execution_count": 51,
   "metadata": {},
   "outputs": [],
   "source": [
    "#get sum of votes for each unique candidate\n",
    "count = poll_file_df[\"Candidate\"].value_counts()\n"
   ]
  },
  {
   "cell_type": "code",
   "execution_count": 52,
   "metadata": {},
   "outputs": [],
   "source": [
    "#get the percentage of votes for each candidate\n",
    "percentage_votes = round(count/vote_total, 3)\n"
   ]
  },
  {
   "cell_type": "code",
   "execution_count": 53,
   "metadata": {
    "scrolled": true
   },
   "outputs": [],
   "source": [
    "#Put the summary results into a new dataframe\n",
    "summary_table_df = pd.DataFrame({\"Candidate\": candidates, \"Percent Votes\": percentage_votes, \"Number of Votes\": count})\n"
   ]
  },
  {
   "cell_type": "code",
   "execution_count": 54,
   "metadata": {},
   "outputs": [],
   "source": [
    "#find the winner\n",
    "winner = summary_table_df[\"Percent Votes\"].idxmax()\n"
   ]
  },
  {
   "cell_type": "code",
   "execution_count": 55,
   "metadata": {},
   "outputs": [],
   "source": [
    "#Replace percentage column with formatted number\n",
    "#Convert to a float\n",
    "summary_table_df[['Percent Votes']] = summary_table_df[['Percent Votes']].astype('float')\n",
    "summary_table_df[['Percent Votes']] = summary_table_df[['Percent Votes']].applymap(\"{0:.3%}\".format)\n"
   ]
  },
  {
   "cell_type": "code",
   "execution_count": 56,
   "metadata": {},
   "outputs": [
    {
     "name": "stdout",
     "output_type": "stream",
     "text": [
      "Election Results\n",
      "\n",
      "----------------------------------------\n",
      "Total Votes:  3521001\n",
      "----------------------------------------\n",
      "\n",
      "Candidate Percent Votes  Number of Votes\n",
      "    Khan       63.000%          2218231\n",
      "  Correy       20.000%           704200\n",
      "      Li       14.000%           492940\n",
      "O'Tooley        3.000%           105630\n",
      "----------------------------------------\n",
      "\n",
      "Winner: Khan\n",
      "\n",
      "----------------------------------------\n",
      "Khan: 63.000% (2218231)\n",
      "Correy: 20.000% (704200)\n",
      "Li: 14.000% (492940)\n",
      "O'Tooley: 3.000% (105630)\n"
     ]
    }
   ],
   "source": [
    "#Print out the election results\n",
    "print('Election Results' + '\\n')\n",
    "print('----------------------------------------')\n",
    "print('Total Votes:  ' + str(vote_total))\n",
    "print('----------------------------------------' + '\\n')\n",
    "print(summary_table_df.to_string(index=False, justify='right').strip())\n",
    "print('----------------------------------------' + '\\n')\n",
    "print('Winner: ' + winner + '\\n')\n",
    "print('----------------------------------------')\n",
    "\n",
    "#another way to print out results - TESTING\n",
    "for index, row in summary_table_df.iterrows():\n",
    "    print(f'{row[\"Candidate\"]}: {row[\"Percent Votes\"]} ({row[\"Number of Votes\"]})')\n",
    "\n",
    "\n",
    "\n"
   ]
  },
  {
   "cell_type": "code",
   "execution_count": 57,
   "metadata": {},
   "outputs": [],
   "source": [
    "#Send output to a csv file\n",
    "summary_table_df.to_csv(\"Output/Election_Results_Pypoll.csv\", index=False, header=True)"
   ]
  },
  {
   "cell_type": "code",
   "execution_count": null,
   "metadata": {},
   "outputs": [],
   "source": []
  }
 ],
 "metadata": {
  "kernelspec": {
   "display_name": "Python [default]",
   "language": "python",
   "name": "python3"
  },
  "language_info": {
   "codemirror_mode": {
    "name": "ipython",
    "version": 3
   },
   "file_extension": ".py",
   "mimetype": "text/x-python",
   "name": "python",
   "nbconvert_exporter": "python",
   "pygments_lexer": "ipython3",
   "version": "3.6.5"
  }
 },
 "nbformat": 4,
 "nbformat_minor": 2
}
